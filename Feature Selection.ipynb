{
 "cells": [
  {
   "cell_type": "code",
   "execution_count": 1,
   "id": "86dde016",
   "metadata": {},
   "outputs": [],
   "source": [
    "import pandas as pd\n",
    "import numpy as np\n",
    "from sklearn.feature_selection import SelectKBest\n",
    "from sklearn.feature_selection import chi2\n",
    "import seaborn as sns\n",
    "import matplotlib.pyplot as plt\n",
    "from xgboost import XGBClassifier\n",
    "from sklearn.metrics import accuracy_score, confusion_matrix, plot_confusion_matrix, classification_report, roc_auc_score, plot_roc_curve\n",
    "from sklearn.preprocessing import MinMaxScaler\n",
    "from sklearn.model_selection import train_test_split"
   ]
  },
  {
   "cell_type": "code",
   "execution_count": 6,
   "id": "c5e31bc2",
   "metadata": {},
   "outputs": [],
   "source": [
    "data = pd.read_csv(r'C:\\Users\\ASUS\\Downloads\\Detection of parkinsons disease using voice\\New_train_data.csv')\n",
    "datadrop=data.drop(['Subject_ID'], axis=1)"
   ]
  },
  {
   "cell_type": "code",
   "execution_count": 7,
   "id": "06c57560",
   "metadata": {},
   "outputs": [],
   "source": [
    "X = datadrop.iloc[:,0:26]  #independent columns\n",
    "y = datadrop.iloc[:,-1]    #target column i.e price range"
   ]
  },
  {
   "cell_type": "code",
   "execution_count": 8,
   "id": "c15fea71",
   "metadata": {},
   "outputs": [
    {
     "name": "stdout",
     "output_type": "stream",
     "text": [
      "                                  Specs        Score\n",
      "18                        Maximum Pitch  1269.810767\n",
      "16                   Standard Deviation   743.564627\n",
      "20                    Number of Periods   485.662166\n",
      "19                     Number of Pulses   358.876408\n",
      "25               Degree of Voice Breaks   307.212555\n",
      "23  Fraction of Locally Unvoiced Frames   245.952957\n",
      "15                           Mean Pitch   205.726319\n",
      "14                         Median Pitch   141.583040\n",
      "9                        Shimmer(apq11)    65.918170\n",
      "17                        Minimun Pitch    59.740351\n"
     ]
    }
   ],
   "source": [
    "#apply SelectKBest class to extract top 10 best features\n",
    "bestfeatures = SelectKBest(score_func=chi2, k=10)\n",
    "fit = bestfeatures.fit(X,y)\n",
    "dfscores = pd.DataFrame(fit.scores_)\n",
    "dfcolumns = pd.DataFrame(X.columns)\n",
    "#concat two dataframes for better visualization \n",
    "featureScores = pd.concat([dfcolumns,dfscores],axis=1)\n",
    "featureScores.columns = ['Specs','Score']  #naming the dataframe columns\n",
    "print(featureScores.nlargest(10,'Score'))  #print 10 best features\n"
   ]
  },
  {
   "cell_type": "code",
   "execution_count": 13,
   "id": "3fcd7e11",
   "metadata": {},
   "outputs": [],
   "source": [
    "datadrop1=data.drop(['Subject_ID','Jitter(local)','Jitter(local, absolute)','Jitter(rap)','Jitter(ppq5)','Jitter(ddp)','Shimmer(local)','Shimmer(local, dB)','Shimmer(apq3)','Shimmer(apq5)','Shimmer(dda)','AC','NTH','HTN','Number of Voice Breaks','UPDRS','Mean Period','Standard Deviation of Period'], axis=1)"
   ]
  },
  {
   "cell_type": "code",
   "execution_count": 14,
   "id": "3377ae38",
   "metadata": {},
   "outputs": [
    {
     "data": {
      "text/plain": [
       "Shimmer(apq11)                         float64\n",
       "Median Pitch                           float64\n",
       "Mean Pitch                             float64\n",
       "Standard Deviation                     float64\n",
       "Minimun Pitch                          float64\n",
       "Maximum Pitch                          float64\n",
       "Number of Pulses                         int64\n",
       "Number of Periods                        int64\n",
       "Fraction of Locally Unvoiced Frames    float64\n",
       "Degree of Voice Breaks                 float64\n",
       "Class_Information                        int64\n",
       "dtype: object"
      ]
     },
     "execution_count": 14,
     "metadata": {},
     "output_type": "execute_result"
    }
   ],
   "source": [
    "datadrop1.dtypes"
   ]
  },
  {
   "cell_type": "code",
   "execution_count": 17,
   "id": "0f6df976",
   "metadata": {},
   "outputs": [],
   "source": [
    "features1=datadrop1.loc[:,datadrop1.columns!='Class_Information'].values[:,1:]\n",
    "labels=datadrop1.loc[:,'Class_Information'].values"
   ]
  },
  {
   "cell_type": "code",
   "execution_count": 18,
   "id": "6915668d",
   "metadata": {},
   "outputs": [
    {
     "name": "stdout",
     "output_type": "stream",
     "text": [
      "520 520\n"
     ]
    }
   ],
   "source": [
    "print(labels[labels==1].shape[0], labels[labels==0].shape[0])"
   ]
  },
  {
   "cell_type": "code",
   "execution_count": 23,
   "id": "068ccbe5",
   "metadata": {},
   "outputs": [],
   "source": [
    "scaler1=MinMaxScaler((-1,1))\n",
    "x=scaler1.fit_transform(features1)\n",
    "y=labels"
   ]
  },
  {
   "cell_type": "code",
   "execution_count": 33,
   "id": "07abbc7f",
   "metadata": {},
   "outputs": [],
   "source": [
    "x_train,y_train=x, y"
   ]
  },
  {
   "cell_type": "code",
   "execution_count": 34,
   "id": "aa0beef0",
   "metadata": {},
   "outputs": [],
   "source": [
    "model = XGBClassifier(eval_metric='mlogloss')"
   ]
  },
  {
   "cell_type": "code",
   "execution_count": 35,
   "id": "f20300fe",
   "metadata": {},
   "outputs": [
    {
     "data": {
      "text/plain": [
       "XGBClassifier(base_score=0.5, booster='gbtree', callbacks=None,\n",
       "              colsample_bylevel=1, colsample_bynode=1, colsample_bytree=1,\n",
       "              early_stopping_rounds=None, enable_categorical=False,\n",
       "              eval_metric='mlogloss', gamma=0, gpu_id=-1,\n",
       "              grow_policy='depthwise', importance_type=None,\n",
       "              interaction_constraints='', learning_rate=0.300000012,\n",
       "              max_bin=256, max_cat_to_onehot=4, max_delta_step=0, max_depth=6,\n",
       "              max_leaves=0, min_child_weight=1, missing=nan,\n",
       "              monotone_constraints='()', n_estimators=100, n_jobs=0,\n",
       "              num_parallel_tree=1, predictor='auto', random_state=0,\n",
       "              reg_alpha=0, reg_lambda=1, ...)"
      ]
     },
     "execution_count": 35,
     "metadata": {},
     "output_type": "execute_result"
    }
   ],
   "source": [
    "model.fit(x_train, y_train)"
   ]
  },
  {
   "cell_type": "code",
   "execution_count": 36,
   "id": "efeed471",
   "metadata": {},
   "outputs": [],
   "source": [
    "x_test=pd.read_csv(r'C:\\Users\\ASUS\\Downloads\\Detection of parkinsons disease using voice\\New_test_data.csv')"
   ]
  },
  {
   "cell_type": "code",
   "execution_count": 37,
   "id": "366f20aa",
   "metadata": {},
   "outputs": [],
   "source": [
    "\n",
    "datadrop2=x_test.drop(['Subject_ID','Jitter(local)','Jitter(local, absolute)','Jitter(rap)','Jitter(ppq5)','Jitter(ddp)','Shimmer(local)','Shimmer(local, dB)','Shimmer(apq3)','Shimmer(apq5)','Shimmer(dda)','AC','NTH','HTN','Number of Voice Breaks','Mean Period','Standard Deviation of Period'], axis=1)\n"
   ]
  },
  {
   "cell_type": "code",
   "execution_count": 38,
   "id": "3a507be1",
   "metadata": {},
   "outputs": [],
   "source": [
    "features1=datadrop2.loc[:,datadrop2.columns!='Class_Information'].values[:,1:]\n",
    "labels=datadrop2.loc[:,'Class_Information'].values"
   ]
  },
  {
   "cell_type": "code",
   "execution_count": 39,
   "id": "d11af328",
   "metadata": {},
   "outputs": [
    {
     "name": "stdout",
     "output_type": "stream",
     "text": [
      "168 0\n"
     ]
    }
   ],
   "source": [
    "print(labels[labels==1].shape[0], labels[labels==0].shape[0])"
   ]
  },
  {
   "cell_type": "code",
   "execution_count": 40,
   "id": "57edf943",
   "metadata": {},
   "outputs": [],
   "source": [
    "scaler=MinMaxScaler((-1,1))\n",
    "x1=scaler.fit_transform(features1)\n",
    "y1=labels"
   ]
  },
  {
   "cell_type": "code",
   "execution_count": 41,
   "id": "cda8d11d",
   "metadata": {},
   "outputs": [],
   "source": [
    "# Finally, generate y_pred (predicted values for x_test)\n",
    "\n",
    "y_pred=model.predict(x1)"
   ]
  },
  {
   "cell_type": "code",
   "execution_count": 42,
   "id": "f61a4d42",
   "metadata": {},
   "outputs": [
    {
     "name": "stdout",
     "output_type": "stream",
     "text": [
      "0.48214285714285715\n"
     ]
    }
   ],
   "source": [
    "# Calculate the accuracy for the model. Print it out.\n",
    "\n",
    "print(accuracy_score(y1, y_pred))\n",
    "\n",
    "# 92.3076923076923 -with MinMaxscalar"
   ]
  },
  {
   "cell_type": "code",
   "execution_count": null,
   "id": "fe382c0f",
   "metadata": {},
   "outputs": [],
   "source": []
  }
 ],
 "metadata": {
  "kernelspec": {
   "display_name": "Python 3 (ipykernel)",
   "language": "python",
   "name": "python3"
  },
  "language_info": {
   "codemirror_mode": {
    "name": "ipython",
    "version": 3
   },
   "file_extension": ".py",
   "mimetype": "text/x-python",
   "name": "python",
   "nbconvert_exporter": "python",
   "pygments_lexer": "ipython3",
   "version": "3.9.5"
  }
 },
 "nbformat": 4,
 "nbformat_minor": 5
}
